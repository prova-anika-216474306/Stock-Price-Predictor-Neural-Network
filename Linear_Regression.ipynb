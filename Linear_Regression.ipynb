{
  "nbformat": 4,
  "nbformat_minor": 0,
  "metadata": {
    "colab": {
      "provenance": []
    },
    "kernelspec": {
      "name": "python3",
      "display_name": "Python 3"
    },
    "language_info": {
      "name": "python"
    }
  },
  "cells": [
    {
      "cell_type": "markdown",
      "source": [
        "The Kaggle Dataset and a simple project related to that project can be found here: https://www.kaggle.com/code/gkitchen/s-p500-spy-prediction\n",
        "\n",
        "The code below is what we did:"
      ],
      "metadata": {
        "id": "OXjoJSKtGYjK"
      }
    },
    {
      "cell_type": "code",
      "execution_count": 4,
      "metadata": {
        "colab": {
          "base_uri": "https://localhost:8080/"
        },
        "id": "VyB08An_2rVv",
        "outputId": "565e538c-ffef-40dd-a896-4b6359e76bfe"
      },
      "outputs": [
        {
          "output_type": "stream",
          "name": "stdout",
          "text": [
            "Linear Regression Mean Squared Error: 0.6185534917471393\n"
          ]
        }
      ],
      "source": [
        "import pandas as pd\n",
        "import numpy as np\n",
        "from sklearn.preprocessing import MinMaxScaler\n",
        "from sklearn.model_selection import train_test_split\n",
        "from sklearn.linear_model import LinearRegression\n",
        "from sklearn.metrics import mean_squared_error\n",
        "import matplotlib.pyplot as plt\n",
        "\n",
        "# Load the data\n",
        "df = pd.read_csv('spy.csv')\n",
        "target_column = 'Close'\n",
        "\n",
        "# Extract relevant features for modeling\n",
        "features = ['Open', 'High', 'Low', 'Volume']\n",
        "X = df[features]\n",
        "y = df[target_column]\n",
        "\n",
        "# Split the data into training and testing sets\n",
        "X_train, X_test, y_train, y_test = train_test_split(X, y, test_size=0.2, random_state=42)\n",
        "\n",
        "# Scale the features using MinMaxScaler\n",
        "scaler_X = MinMaxScaler()\n",
        "X_train_scaled = scaler_X.fit_transform(X_train)\n",
        "X_test_scaled = scaler_X.transform(X_test)\n",
        "\n",
        "# Fit a separate scaler for the target variable\n",
        "scaler_y = MinMaxScaler()\n",
        "y_train_scaled = scaler_y.fit_transform(y_train.values.reshape(-1, 1))\n",
        "y_test_scaled = scaler_y.transform(y_test.values.reshape(-1, 1))\n",
        "\n",
        "# Train Linear Regression model\n",
        "model_lr = LinearRegression()\n",
        "model_lr.fit(X_train_scaled, y_train_scaled)\n",
        "\n",
        "# Make predictions on the test set\n",
        "y_pred_lr_scaled = model_lr.predict(X_test_scaled)\n",
        "\n",
        "# Rescale predictions to original scale\n",
        "y_pred_lr = scaler_y.inverse_transform(y_pred_lr_scaled)\n",
        "\n",
        "# Calculate Mean Squared Error for Linear Regression\n",
        "mse_lr = mean_squared_error(y_test, y_pred_lr)\n",
        "print(f\"Linear Regression Mean Squared Error: {mse_lr}\")\n"
      ]
    },
    {
      "cell_type": "code",
      "source": [],
      "metadata": {
        "id": "MAX33zFF2vsh"
      },
      "execution_count": null,
      "outputs": []
    }
  ]
}